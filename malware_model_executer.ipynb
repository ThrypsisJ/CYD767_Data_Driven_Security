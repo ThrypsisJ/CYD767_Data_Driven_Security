{
 "cells": [
  {
   "cell_type": "code",
   "execution_count": null,
   "metadata": {
    "execution": {
     "iopub.execute_input": "2021-12-06T07:21:50.636283Z",
     "iopub.status.busy": "2021-12-06T07:21:50.636106Z"
    },
    "tags": []
   },
   "outputs": [
    {
     "name": "stderr",
     "output_type": "stream",
     "text": [
      "  2%|▏         | 522/27022 [02:03<33:42, 13.10it/s]  "
     ]
    }
   ],
   "source": [
    "import malware_with_onehot as mo\n",
    "\n",
    "model = mo.mal_onehot(20)\n",
    "\n",
    "model.train()\n",
    "model.save_params()"
   ]
  },
  {
   "cell_type": "code",
   "execution_count": 5,
   "metadata": {
    "execution": {
     "iopub.execute_input": "2021-12-06T07:20:05.872170Z",
     "iopub.status.busy": "2021-12-06T07:20:05.871961Z",
     "iopub.status.idle": "2021-12-06T07:20:05.878971Z",
     "shell.execute_reply": "2021-12-06T07:20:05.878207Z",
     "shell.execute_reply.started": "2021-12-06T07:20:05.872142Z"
    }
   },
   "outputs": [
    {
     "ename": "AttributeError",
     "evalue": "'mal_onehot' object has no attribute 'validation'",
     "output_type": "error",
     "traceback": [
      "\u001b[0;31m---------------------------------------------------------------------------\u001b[0m",
      "\u001b[0;31mAttributeError\u001b[0m                            Traceback (most recent call last)",
      "\u001b[0;32m/tmp/ipykernel_175427/3998452595.py\u001b[0m in \u001b[0;36m<module>\u001b[0;34m\u001b[0m\n\u001b[0;32m----> 1\u001b[0;31m \u001b[0mmodel\u001b[0m\u001b[0;34m.\u001b[0m\u001b[0mvalidation\u001b[0m\u001b[0;34m(\u001b[0m\u001b[0;34m)\u001b[0m\u001b[0;34m\u001b[0m\u001b[0;34m\u001b[0m\u001b[0m\n\u001b[0m",
      "\u001b[0;31mAttributeError\u001b[0m: 'mal_onehot' object has no attribute 'validation'"
     ]
    }
   ],
   "source": [
    "model.validation()"
   ]
  }
 ],
 "metadata": {
  "interpreter": {
   "hash": "31f2aee4e71d21fbe5cf8b01ff0e069b9275f58929596ceb00d14d90e3e16cd6"
  },
  "kernelspec": {
   "display_name": "Python 3 (ipykernel)",
   "language": "python",
   "name": "python3"
  },
  "language_info": {
   "codemirror_mode": {
    "name": "ipython",
    "version": 3
   },
   "file_extension": ".py",
   "mimetype": "text/x-python",
   "name": "python",
   "nbconvert_exporter": "python",
   "pygments_lexer": "ipython3",
   "version": "3.8.10"
  }
 },
 "nbformat": 4,
 "nbformat_minor": 4
}
